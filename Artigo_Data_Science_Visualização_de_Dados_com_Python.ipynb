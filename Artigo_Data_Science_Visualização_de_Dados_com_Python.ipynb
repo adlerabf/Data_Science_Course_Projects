{
  "nbformat": 4,
  "nbformat_minor": 0,
  "metadata": {
    "colab": {
      "name": "Artigo Data Science: Visualização de Dados com Python.ipynb",
      "provenance": [],
      "collapsed_sections": [],
      "toc_visible": true,
      "include_colab_link": true
    },
    "kernelspec": {
      "name": "python3",
      "display_name": "Python 3"
    }
  },
  "cells": [
    {
      "cell_type": "markdown",
      "metadata": {
        "id": "view-in-github",
        "colab_type": "text"
      },
      "source": [
        "<a href=\"https://colab.research.google.com/github/adlerabf/Data_Science_Course_Projects/blob/main/Artigo_Data_Science_Visualiza%C3%A7%C3%A3o_de_Dados_com_Python.ipynb\" target=\"_parent\"><img src=\"https://colab.research.google.com/assets/colab-badge.svg\" alt=\"Open In Colab\"/></a>"
      ]
    },
    {
      "cell_type": "markdown",
      "source": [
        "# Exemplos de bases de dados, códigos e visualizações\n",
        "---\n",
        "Este notebook foi criado para exemplificar as visualizações de dados com \n",
        "Python, para o artigo de mesmo assunto publicado em meu [Linkedin](https://www.linkedin.com/pulse/data-science-visualiza%25C3%25A7%25C3%25A3o-de-dados-com-python-adler-barroso-ferreira).\n",
        "\n",
        "\n",
        "\n",
        "\n",
        "\n",
        " "
      ],
      "metadata": {
        "id": "phPNhiPiD1_7"
      }
    },
    {
      "cell_type": "markdown",
      "source": [
        "## Importanto as Bibliotécas\n",
        "\n"
      ],
      "metadata": {
        "id": "6TgmtDgbKi3S"
      }
    },
    {
      "cell_type": "code",
      "metadata": {
        "id": "Vhp2wMPgJ6zX"
      },
      "source": [
        "# importar os pacotes necessarios\n",
        "import pandas as pd\n",
        "import matplotlib.pyplot as plt\n",
        "import seaborn as sns\n",
        "\n",
        "%matplotlib inline"
      ],
      "execution_count": null,
      "outputs": []
    },
    {
      "cell_type": "markdown",
      "metadata": {
        "id": "0zxQHhIUDF_2"
      },
      "source": [
        "## Obtenção dos Dados: AIRBNB\n"
      ]
    },
    {
      "cell_type": "code",
      "metadata": {
        "id": "tUmoAT8DLQ5T"
      },
      "source": [
        "# importar o arquivo listings.csv para um DataFrame\n",
        "df = pd.read_csv('http://data.insideairbnb.com/united-states/fl/broward-county/2021-12-23/visualisations/listings.csv')"
      ],
      "execution_count": null,
      "outputs": []
    },
    {
      "cell_type": "markdown",
      "metadata": {
        "id": "qb5By2nIMS6m"
      },
      "source": [
        "### Análise dos Dados\n"
      ]
    },
    {
      "cell_type": "code",
      "metadata": {
        "id": "2iS_dae7YQtO",
        "colab": {
          "base_uri": "https://localhost:8080/",
          "height": 478
        },
        "outputId": "453239f3-e8b0-4ce1-8daf-0dfac21821e8"
      },
      "source": [
        "# mostrar as 5 primeiras entradas\n",
        "df.head(5)"
      ],
      "execution_count": null,
      "outputs": [
        {
          "output_type": "execute_result",
          "data": {
            "text/plain": [
              "       id                                 name  host_id  \\\n",
              "0   57818    Private house close to the beach!   275948   \n",
              "1   69824            2 bd/2ba Oceanfront Condo   351303   \n",
              "2   83449        MARY POP APTS 2/1 APT SLEEP 5   454736   \n",
              "3  105411                 House in the Ranches   532930   \n",
              "4  129061  MIAMI - LUXURY APARTMENT OVER BEACH   637272   \n",
              "\n",
              "                   host_name  neighbourhood_group      neighbourhood  \\\n",
              "0                     VonJon                  NaN          Hollywood   \n",
              "1                      Tracy                  NaN   Hallandale Beach   \n",
              "2  Jon,  Mary Pop Apartments                  NaN        Dania Beach   \n",
              "3                      Sonia                  NaN  Southwest Ranches   \n",
              "4                     Bianca                  NaN          Hollywood   \n",
              "\n",
              "   latitude  longitude        room_type  price  minimum_nights  \\\n",
              "0  26.01670  -80.12437  Entire home/apt    235               3   \n",
              "1  25.97641  -80.12052  Entire home/apt    140              30   \n",
              "2  26.03392  -80.14201  Entire home/apt     99               7   \n",
              "3  26.04678  -80.36809  Entire home/apt    235               4   \n",
              "4  25.99332  -80.11887  Entire home/apt    315              14   \n",
              "\n",
              "   number_of_reviews last_review  reviews_per_month  \\\n",
              "0                 56  2021-10-22               0.51   \n",
              "1                  2  2021-03-27               0.04   \n",
              "2                 20  2020-01-26               0.16   \n",
              "3                  5  2018-03-28               0.04   \n",
              "4                 18  2021-06-03               0.14   \n",
              "\n",
              "   calculated_host_listings_count  availability_365  number_of_reviews_ltm  \\\n",
              "0                               1               337                     15   \n",
              "1                               2               268                      1   \n",
              "2                               8               206                      0   \n",
              "3                               1               203                      0   \n",
              "4                               6               353                      3   \n",
              "\n",
              "   license  \n",
              "0      NaN  \n",
              "1      NaN  \n",
              "2      NaN  \n",
              "3      NaN  \n",
              "4      NaN  "
            ],
            "text/html": [
              "\n",
              "  <div id=\"df-4c70e0ff-69c7-466b-8959-d8231221febf\">\n",
              "    <div class=\"colab-df-container\">\n",
              "      <div>\n",
              "<style scoped>\n",
              "    .dataframe tbody tr th:only-of-type {\n",
              "        vertical-align: middle;\n",
              "    }\n",
              "\n",
              "    .dataframe tbody tr th {\n",
              "        vertical-align: top;\n",
              "    }\n",
              "\n",
              "    .dataframe thead th {\n",
              "        text-align: right;\n",
              "    }\n",
              "</style>\n",
              "<table border=\"1\" class=\"dataframe\">\n",
              "  <thead>\n",
              "    <tr style=\"text-align: right;\">\n",
              "      <th></th>\n",
              "      <th>id</th>\n",
              "      <th>name</th>\n",
              "      <th>host_id</th>\n",
              "      <th>host_name</th>\n",
              "      <th>neighbourhood_group</th>\n",
              "      <th>neighbourhood</th>\n",
              "      <th>latitude</th>\n",
              "      <th>longitude</th>\n",
              "      <th>room_type</th>\n",
              "      <th>price</th>\n",
              "      <th>minimum_nights</th>\n",
              "      <th>number_of_reviews</th>\n",
              "      <th>last_review</th>\n",
              "      <th>reviews_per_month</th>\n",
              "      <th>calculated_host_listings_count</th>\n",
              "      <th>availability_365</th>\n",
              "      <th>number_of_reviews_ltm</th>\n",
              "      <th>license</th>\n",
              "    </tr>\n",
              "  </thead>\n",
              "  <tbody>\n",
              "    <tr>\n",
              "      <th>0</th>\n",
              "      <td>57818</td>\n",
              "      <td>Private house close to the beach!</td>\n",
              "      <td>275948</td>\n",
              "      <td>VonJon</td>\n",
              "      <td>NaN</td>\n",
              "      <td>Hollywood</td>\n",
              "      <td>26.01670</td>\n",
              "      <td>-80.12437</td>\n",
              "      <td>Entire home/apt</td>\n",
              "      <td>235</td>\n",
              "      <td>3</td>\n",
              "      <td>56</td>\n",
              "      <td>2021-10-22</td>\n",
              "      <td>0.51</td>\n",
              "      <td>1</td>\n",
              "      <td>337</td>\n",
              "      <td>15</td>\n",
              "      <td>NaN</td>\n",
              "    </tr>\n",
              "    <tr>\n",
              "      <th>1</th>\n",
              "      <td>69824</td>\n",
              "      <td>2 bd/2ba Oceanfront Condo</td>\n",
              "      <td>351303</td>\n",
              "      <td>Tracy</td>\n",
              "      <td>NaN</td>\n",
              "      <td>Hallandale Beach</td>\n",
              "      <td>25.97641</td>\n",
              "      <td>-80.12052</td>\n",
              "      <td>Entire home/apt</td>\n",
              "      <td>140</td>\n",
              "      <td>30</td>\n",
              "      <td>2</td>\n",
              "      <td>2021-03-27</td>\n",
              "      <td>0.04</td>\n",
              "      <td>2</td>\n",
              "      <td>268</td>\n",
              "      <td>1</td>\n",
              "      <td>NaN</td>\n",
              "    </tr>\n",
              "    <tr>\n",
              "      <th>2</th>\n",
              "      <td>83449</td>\n",
              "      <td>MARY POP APTS 2/1 APT SLEEP 5</td>\n",
              "      <td>454736</td>\n",
              "      <td>Jon,  Mary Pop Apartments</td>\n",
              "      <td>NaN</td>\n",
              "      <td>Dania Beach</td>\n",
              "      <td>26.03392</td>\n",
              "      <td>-80.14201</td>\n",
              "      <td>Entire home/apt</td>\n",
              "      <td>99</td>\n",
              "      <td>7</td>\n",
              "      <td>20</td>\n",
              "      <td>2020-01-26</td>\n",
              "      <td>0.16</td>\n",
              "      <td>8</td>\n",
              "      <td>206</td>\n",
              "      <td>0</td>\n",
              "      <td>NaN</td>\n",
              "    </tr>\n",
              "    <tr>\n",
              "      <th>3</th>\n",
              "      <td>105411</td>\n",
              "      <td>House in the Ranches</td>\n",
              "      <td>532930</td>\n",
              "      <td>Sonia</td>\n",
              "      <td>NaN</td>\n",
              "      <td>Southwest Ranches</td>\n",
              "      <td>26.04678</td>\n",
              "      <td>-80.36809</td>\n",
              "      <td>Entire home/apt</td>\n",
              "      <td>235</td>\n",
              "      <td>4</td>\n",
              "      <td>5</td>\n",
              "      <td>2018-03-28</td>\n",
              "      <td>0.04</td>\n",
              "      <td>1</td>\n",
              "      <td>203</td>\n",
              "      <td>0</td>\n",
              "      <td>NaN</td>\n",
              "    </tr>\n",
              "    <tr>\n",
              "      <th>4</th>\n",
              "      <td>129061</td>\n",
              "      <td>MIAMI - LUXURY APARTMENT OVER BEACH</td>\n",
              "      <td>637272</td>\n",
              "      <td>Bianca</td>\n",
              "      <td>NaN</td>\n",
              "      <td>Hollywood</td>\n",
              "      <td>25.99332</td>\n",
              "      <td>-80.11887</td>\n",
              "      <td>Entire home/apt</td>\n",
              "      <td>315</td>\n",
              "      <td>14</td>\n",
              "      <td>18</td>\n",
              "      <td>2021-06-03</td>\n",
              "      <td>0.14</td>\n",
              "      <td>6</td>\n",
              "      <td>353</td>\n",
              "      <td>3</td>\n",
              "      <td>NaN</td>\n",
              "    </tr>\n",
              "  </tbody>\n",
              "</table>\n",
              "</div>\n",
              "      <button class=\"colab-df-convert\" onclick=\"convertToInteractive('df-4c70e0ff-69c7-466b-8959-d8231221febf')\"\n",
              "              title=\"Convert this dataframe to an interactive table.\"\n",
              "              style=\"display:none;\">\n",
              "        \n",
              "  <svg xmlns=\"http://www.w3.org/2000/svg\" height=\"24px\"viewBox=\"0 0 24 24\"\n",
              "       width=\"24px\">\n",
              "    <path d=\"M0 0h24v24H0V0z\" fill=\"none\"/>\n",
              "    <path d=\"M18.56 5.44l.94 2.06.94-2.06 2.06-.94-2.06-.94-.94-2.06-.94 2.06-2.06.94zm-11 1L8.5 8.5l.94-2.06 2.06-.94-2.06-.94L8.5 2.5l-.94 2.06-2.06.94zm10 10l.94 2.06.94-2.06 2.06-.94-2.06-.94-.94-2.06-.94 2.06-2.06.94z\"/><path d=\"M17.41 7.96l-1.37-1.37c-.4-.4-.92-.59-1.43-.59-.52 0-1.04.2-1.43.59L10.3 9.45l-7.72 7.72c-.78.78-.78 2.05 0 2.83L4 21.41c.39.39.9.59 1.41.59.51 0 1.02-.2 1.41-.59l7.78-7.78 2.81-2.81c.8-.78.8-2.07 0-2.86zM5.41 20L4 18.59l7.72-7.72 1.47 1.35L5.41 20z\"/>\n",
              "  </svg>\n",
              "      </button>\n",
              "      \n",
              "  <style>\n",
              "    .colab-df-container {\n",
              "      display:flex;\n",
              "      flex-wrap:wrap;\n",
              "      gap: 12px;\n",
              "    }\n",
              "\n",
              "    .colab-df-convert {\n",
              "      background-color: #E8F0FE;\n",
              "      border: none;\n",
              "      border-radius: 50%;\n",
              "      cursor: pointer;\n",
              "      display: none;\n",
              "      fill: #1967D2;\n",
              "      height: 32px;\n",
              "      padding: 0 0 0 0;\n",
              "      width: 32px;\n",
              "    }\n",
              "\n",
              "    .colab-df-convert:hover {\n",
              "      background-color: #E2EBFA;\n",
              "      box-shadow: 0px 1px 2px rgba(60, 64, 67, 0.3), 0px 1px 3px 1px rgba(60, 64, 67, 0.15);\n",
              "      fill: #174EA6;\n",
              "    }\n",
              "\n",
              "    [theme=dark] .colab-df-convert {\n",
              "      background-color: #3B4455;\n",
              "      fill: #D2E3FC;\n",
              "    }\n",
              "\n",
              "    [theme=dark] .colab-df-convert:hover {\n",
              "      background-color: #434B5C;\n",
              "      box-shadow: 0px 1px 3px 1px rgba(0, 0, 0, 0.15);\n",
              "      filter: drop-shadow(0px 1px 2px rgba(0, 0, 0, 0.3));\n",
              "      fill: #FFFFFF;\n",
              "    }\n",
              "  </style>\n",
              "\n",
              "      <script>\n",
              "        const buttonEl =\n",
              "          document.querySelector('#df-4c70e0ff-69c7-466b-8959-d8231221febf button.colab-df-convert');\n",
              "        buttonEl.style.display =\n",
              "          google.colab.kernel.accessAllowed ? 'block' : 'none';\n",
              "\n",
              "        async function convertToInteractive(key) {\n",
              "          const element = document.querySelector('#df-4c70e0ff-69c7-466b-8959-d8231221febf');\n",
              "          const dataTable =\n",
              "            await google.colab.kernel.invokeFunction('convertToInteractive',\n",
              "                                                     [key], {});\n",
              "          if (!dataTable) return;\n",
              "\n",
              "          const docLinkHtml = 'Like what you see? Visit the ' +\n",
              "            '<a target=\"_blank\" href=https://colab.research.google.com/notebooks/data_table.ipynb>data table notebook</a>'\n",
              "            + ' to learn more about interactive tables.';\n",
              "          element.innerHTML = '';\n",
              "          dataTable['output_type'] = 'display_data';\n",
              "          await google.colab.output.renderOutput(dataTable, element);\n",
              "          const docLink = document.createElement('div');\n",
              "          docLink.innerHTML = docLinkHtml;\n",
              "          element.appendChild(docLink);\n",
              "        }\n",
              "      </script>\n",
              "    </div>\n",
              "  </div>\n",
              "  "
            ]
          },
          "metadata": {},
          "execution_count": 3
        }
      ]
    },
    {
      "cell_type": "code",
      "metadata": {
        "id": "TFRK0tniLV-G",
        "colab": {
          "base_uri": "https://localhost:8080/"
        },
        "outputId": "5cb0107b-9a1a-4ae4-9b98-7ee6e169470d"
      },
      "source": [
        "# identificar o volume de dados do DataFrame\n",
        "print('Número de Linhas: ', df.shape[0])\n",
        "print('Número de Colunas: ', df.shape[1])"
      ],
      "execution_count": null,
      "outputs": [
        {
          "output_type": "stream",
          "name": "stdout",
          "text": [
            "Número de Linhas:  12531\n",
            "Número de Colunas:  18\n"
          ]
        }
      ]
    },
    {
      "cell_type": "code",
      "source": [
        "# verificar os tipos primitivos dos dados\n",
        "df.dtypes"
      ],
      "metadata": {
        "colab": {
          "base_uri": "https://localhost:8080/"
        },
        "id": "IlvQshLuXya3",
        "outputId": "a30cef49-51ec-48eb-ee0d-578796cd2f6d"
      },
      "execution_count": null,
      "outputs": [
        {
          "output_type": "execute_result",
          "data": {
            "text/plain": [
              "id                                  int64\n",
              "name                               object\n",
              "host_id                             int64\n",
              "host_name                          object\n",
              "neighbourhood_group               float64\n",
              "neighbourhood                      object\n",
              "latitude                          float64\n",
              "longitude                         float64\n",
              "room_type                          object\n",
              "price                               int64\n",
              "minimum_nights                      int64\n",
              "number_of_reviews                   int64\n",
              "last_review                        object\n",
              "reviews_per_month                 float64\n",
              "calculated_host_listings_count      int64\n",
              "availability_365                    int64\n",
              "number_of_reviews_ltm               int64\n",
              "license                           float64\n",
              "dtype: object"
            ]
          },
          "metadata": {},
          "execution_count": 5
        }
      ]
    },
    {
      "cell_type": "code",
      "source": [
        "# verificar os dados presentes na coluna room_type\n",
        "df['room_type'].unique()"
      ],
      "metadata": {
        "colab": {
          "base_uri": "https://localhost:8080/"
        },
        "id": "vNHcuqy8KHTU",
        "outputId": "8653b0a5-b863-439f-9d27-8c8e3c72f390"
      },
      "execution_count": null,
      "outputs": [
        {
          "output_type": "execute_result",
          "data": {
            "text/plain": [
              "array(['Entire home/apt', 'Private room', 'Shared room', 'Hotel room'],\n",
              "      dtype=object)"
            ]
          },
          "metadata": {},
          "execution_count": 6
        }
      ]
    },
    {
      "cell_type": "code",
      "source": [
        "# descrever as variáves númericas do dataset\n",
        "df[['price', 'minimum_nights', 'number_of_reviews', \n",
        "    'reviews_per_month', 'calculated_host_listings_count', 'availability_365']].describe()"
      ],
      "metadata": {
        "colab": {
          "base_uri": "https://localhost:8080/",
          "height": 300
        },
        "id": "ahc2_R7wh-Ka",
        "outputId": "22d84f87-6f37-4931-eade-8fda738b9fcf"
      },
      "execution_count": null,
      "outputs": [
        {
          "output_type": "execute_result",
          "data": {
            "text/plain": [
              "              price  minimum_nights  number_of_reviews  reviews_per_month  \\\n",
              "count  12531.000000    12531.000000       12531.000000       10035.000000   \n",
              "mean     343.443301        5.770250          25.542415           1.565010   \n",
              "std      532.623267       17.955775          47.043784           1.592297   \n",
              "min        0.000000        1.000000           0.000000           0.010000   \n",
              "25%      120.000000        1.000000           1.000000           0.460000   \n",
              "50%      201.000000        2.000000           8.000000           1.080000   \n",
              "75%      389.000000        4.000000          30.000000           2.210000   \n",
              "max    10929.000000      500.000000         611.000000          31.110000   \n",
              "\n",
              "       calculated_host_listings_count  availability_365  \n",
              "count                    12531.000000      12531.000000  \n",
              "mean                        14.932009        206.378661  \n",
              "std                         27.250530        120.599562  \n",
              "min                          1.000000          0.000000  \n",
              "25%                          1.000000         90.000000  \n",
              "50%                          4.000000        234.000000  \n",
              "75%                         14.000000        318.000000  \n",
              "max                        152.000000        365.000000  "
            ],
            "text/html": [
              "\n",
              "  <div id=\"df-3c65d35e-f878-400f-b0ec-65a303c041a3\">\n",
              "    <div class=\"colab-df-container\">\n",
              "      <div>\n",
              "<style scoped>\n",
              "    .dataframe tbody tr th:only-of-type {\n",
              "        vertical-align: middle;\n",
              "    }\n",
              "\n",
              "    .dataframe tbody tr th {\n",
              "        vertical-align: top;\n",
              "    }\n",
              "\n",
              "    .dataframe thead th {\n",
              "        text-align: right;\n",
              "    }\n",
              "</style>\n",
              "<table border=\"1\" class=\"dataframe\">\n",
              "  <thead>\n",
              "    <tr style=\"text-align: right;\">\n",
              "      <th></th>\n",
              "      <th>price</th>\n",
              "      <th>minimum_nights</th>\n",
              "      <th>number_of_reviews</th>\n",
              "      <th>reviews_per_month</th>\n",
              "      <th>calculated_host_listings_count</th>\n",
              "      <th>availability_365</th>\n",
              "    </tr>\n",
              "  </thead>\n",
              "  <tbody>\n",
              "    <tr>\n",
              "      <th>count</th>\n",
              "      <td>12531.000000</td>\n",
              "      <td>12531.000000</td>\n",
              "      <td>12531.000000</td>\n",
              "      <td>10035.000000</td>\n",
              "      <td>12531.000000</td>\n",
              "      <td>12531.000000</td>\n",
              "    </tr>\n",
              "    <tr>\n",
              "      <th>mean</th>\n",
              "      <td>343.443301</td>\n",
              "      <td>5.770250</td>\n",
              "      <td>25.542415</td>\n",
              "      <td>1.565010</td>\n",
              "      <td>14.932009</td>\n",
              "      <td>206.378661</td>\n",
              "    </tr>\n",
              "    <tr>\n",
              "      <th>std</th>\n",
              "      <td>532.623267</td>\n",
              "      <td>17.955775</td>\n",
              "      <td>47.043784</td>\n",
              "      <td>1.592297</td>\n",
              "      <td>27.250530</td>\n",
              "      <td>120.599562</td>\n",
              "    </tr>\n",
              "    <tr>\n",
              "      <th>min</th>\n",
              "      <td>0.000000</td>\n",
              "      <td>1.000000</td>\n",
              "      <td>0.000000</td>\n",
              "      <td>0.010000</td>\n",
              "      <td>1.000000</td>\n",
              "      <td>0.000000</td>\n",
              "    </tr>\n",
              "    <tr>\n",
              "      <th>25%</th>\n",
              "      <td>120.000000</td>\n",
              "      <td>1.000000</td>\n",
              "      <td>1.000000</td>\n",
              "      <td>0.460000</td>\n",
              "      <td>1.000000</td>\n",
              "      <td>90.000000</td>\n",
              "    </tr>\n",
              "    <tr>\n",
              "      <th>50%</th>\n",
              "      <td>201.000000</td>\n",
              "      <td>2.000000</td>\n",
              "      <td>8.000000</td>\n",
              "      <td>1.080000</td>\n",
              "      <td>4.000000</td>\n",
              "      <td>234.000000</td>\n",
              "    </tr>\n",
              "    <tr>\n",
              "      <th>75%</th>\n",
              "      <td>389.000000</td>\n",
              "      <td>4.000000</td>\n",
              "      <td>30.000000</td>\n",
              "      <td>2.210000</td>\n",
              "      <td>14.000000</td>\n",
              "      <td>318.000000</td>\n",
              "    </tr>\n",
              "    <tr>\n",
              "      <th>max</th>\n",
              "      <td>10929.000000</td>\n",
              "      <td>500.000000</td>\n",
              "      <td>611.000000</td>\n",
              "      <td>31.110000</td>\n",
              "      <td>152.000000</td>\n",
              "      <td>365.000000</td>\n",
              "    </tr>\n",
              "  </tbody>\n",
              "</table>\n",
              "</div>\n",
              "      <button class=\"colab-df-convert\" onclick=\"convertToInteractive('df-3c65d35e-f878-400f-b0ec-65a303c041a3')\"\n",
              "              title=\"Convert this dataframe to an interactive table.\"\n",
              "              style=\"display:none;\">\n",
              "        \n",
              "  <svg xmlns=\"http://www.w3.org/2000/svg\" height=\"24px\"viewBox=\"0 0 24 24\"\n",
              "       width=\"24px\">\n",
              "    <path d=\"M0 0h24v24H0V0z\" fill=\"none\"/>\n",
              "    <path d=\"M18.56 5.44l.94 2.06.94-2.06 2.06-.94-2.06-.94-.94-2.06-.94 2.06-2.06.94zm-11 1L8.5 8.5l.94-2.06 2.06-.94-2.06-.94L8.5 2.5l-.94 2.06-2.06.94zm10 10l.94 2.06.94-2.06 2.06-.94-2.06-.94-.94-2.06-.94 2.06-2.06.94z\"/><path d=\"M17.41 7.96l-1.37-1.37c-.4-.4-.92-.59-1.43-.59-.52 0-1.04.2-1.43.59L10.3 9.45l-7.72 7.72c-.78.78-.78 2.05 0 2.83L4 21.41c.39.39.9.59 1.41.59.51 0 1.02-.2 1.41-.59l7.78-7.78 2.81-2.81c.8-.78.8-2.07 0-2.86zM5.41 20L4 18.59l7.72-7.72 1.47 1.35L5.41 20z\"/>\n",
              "  </svg>\n",
              "      </button>\n",
              "      \n",
              "  <style>\n",
              "    .colab-df-container {\n",
              "      display:flex;\n",
              "      flex-wrap:wrap;\n",
              "      gap: 12px;\n",
              "    }\n",
              "\n",
              "    .colab-df-convert {\n",
              "      background-color: #E8F0FE;\n",
              "      border: none;\n",
              "      border-radius: 50%;\n",
              "      cursor: pointer;\n",
              "      display: none;\n",
              "      fill: #1967D2;\n",
              "      height: 32px;\n",
              "      padding: 0 0 0 0;\n",
              "      width: 32px;\n",
              "    }\n",
              "\n",
              "    .colab-df-convert:hover {\n",
              "      background-color: #E2EBFA;\n",
              "      box-shadow: 0px 1px 2px rgba(60, 64, 67, 0.3), 0px 1px 3px 1px rgba(60, 64, 67, 0.15);\n",
              "      fill: #174EA6;\n",
              "    }\n",
              "\n",
              "    [theme=dark] .colab-df-convert {\n",
              "      background-color: #3B4455;\n",
              "      fill: #D2E3FC;\n",
              "    }\n",
              "\n",
              "    [theme=dark] .colab-df-convert:hover {\n",
              "      background-color: #434B5C;\n",
              "      box-shadow: 0px 1px 3px 1px rgba(0, 0, 0, 0.15);\n",
              "      filter: drop-shadow(0px 1px 2px rgba(0, 0, 0, 0.3));\n",
              "      fill: #FFFFFF;\n",
              "    }\n",
              "  </style>\n",
              "\n",
              "      <script>\n",
              "        const buttonEl =\n",
              "          document.querySelector('#df-3c65d35e-f878-400f-b0ec-65a303c041a3 button.colab-df-convert');\n",
              "        buttonEl.style.display =\n",
              "          google.colab.kernel.accessAllowed ? 'block' : 'none';\n",
              "\n",
              "        async function convertToInteractive(key) {\n",
              "          const element = document.querySelector('#df-3c65d35e-f878-400f-b0ec-65a303c041a3');\n",
              "          const dataTable =\n",
              "            await google.colab.kernel.invokeFunction('convertToInteractive',\n",
              "                                                     [key], {});\n",
              "          if (!dataTable) return;\n",
              "\n",
              "          const docLinkHtml = 'Like what you see? Visit the ' +\n",
              "            '<a target=\"_blank\" href=https://colab.research.google.com/notebooks/data_table.ipynb>data table notebook</a>'\n",
              "            + ' to learn more about interactive tables.';\n",
              "          element.innerHTML = '';\n",
              "          dataTable['output_type'] = 'display_data';\n",
              "          await google.colab.output.renderOutput(dataTable, element);\n",
              "          const docLink = document.createElement('div');\n",
              "          docLink.innerHTML = docLinkHtml;\n",
              "          element.appendChild(docLink);\n",
              "        }\n",
              "      </script>\n",
              "    </div>\n",
              "  </div>\n",
              "  "
            ]
          },
          "metadata": {},
          "execution_count": 7
        }
      ]
    },
    {
      "cell_type": "markdown",
      "metadata": {
        "id": "yz1urSUGW9iE"
      },
      "source": [
        "### Violin Plot"
      ]
    },
    {
      "cell_type": "code",
      "source": [
        "# criar a variável para filtrar os tipos de quartos\n",
        "rooms = ['Entire home/apt', 'Private room']\n",
        "\n",
        "# criar um novo Dataframe contendo apenas os quartos acima\n",
        "best_rooms = df.loc[df['room_type'].isin(rooms)]\n",
        "\n",
        "# selecionar estilo do gráfico\n",
        "sns.set_style('darkgrid')\n",
        " \n",
        "# plotar o violinplot para a coluna price por tipo de quarto \n",
        "fig, ax = plt.subplots(figsize=(10,5))\n",
        "\n",
        "sns.violinplot(y='room_type', x='price', orient='h',inner=\"box\", data=best_rooms, ax=ax);\n",
        "ax.set_ylabel('Preço')\n",
        "ax.set_xlabel('Tipo de Quarto')\n",
        "\n",
        "plt.tight_layout()"
      ],
      "metadata": {
        "id": "UsjIcdYv9vPn",
        "colab": {
          "base_uri": "https://localhost:8080/",
          "height": 369
        },
        "outputId": "ca01ad98-6091-4728-90e3-ed9316fa69a5"
      },
      "execution_count": null,
      "outputs": [
        {
          "output_type": "display_data",
          "data": {
            "text/plain": [
              "<Figure size 720x360 with 1 Axes>"
            ],
            "image/png": "[encoded data removed]"
          },
          "metadata": {}
        }
      ]
    },
    {
      "cell_type": "markdown",
      "source": [
        "## Boxplot (Conjunto de Dados Exemplo)"
      ],
      "metadata": {
        "id": "cNmTOo9jk27F"
      }
    },
    {
      "cell_type": "code",
      "source": [
        "# criando o conjunto de dados\n",
        "data = [10, 10, 10, 20, 20, 20, 20, 21, 26, 30, 38, 56, 60, 80, 80, 81, 90, 100, 150, 180, 200]\n",
        "\n",
        "# criando o dataframe do conjunto de dados\n",
        "dfBP = pd.DataFrame(data, columns=['Numbers'])\n",
        "\n",
        "# plotando o Boxplot\n",
        "sns.set_theme(style=\"darkgrid\")\n",
        "\n",
        "fig, ax = plt.subplots(figsize=(15,4))\n",
        "\n",
        "sns.boxplot(orient='h', data=dfBP, ax=ax, palette=\"flare\", width=0.5, fliersize=10);\n"
      ],
      "metadata": {
        "id": "oK9HdhvR2jw5",
        "colab": {
          "base_uri": "https://localhost:8080/",
          "height": 268
        },
        "outputId": "4073e8db-8db3-47fb-eba0-a87a7eb5f374"
      },
      "execution_count": null,
      "outputs": [
        {
          "output_type": "display_data",
          "data": {
            "text/plain": [
              "<Figure size 1080x288 with 1 Axes>"
            ],
            "image/png": "[encoded data removed]"
          },
          "metadata": {}
        }
      ]
    },
    {
      "cell_type": "markdown",
      "source": [
        "## Obtenção de Dados: Bitcoin\n",
        "\n",
        "# Para este exemplo utilizei um dataset do [Kaggle](https://www.kaggle.com/datasets/mczielinski/bitcoin-historical-data), contendo dados históricos de Bitcoins\n"
      ],
      "metadata": {
        "id": "WD-Nvs1rvVUN"
      }
    },
    {
      "cell_type": "code",
      "source": [
        "# baixei o arquivo CSV do Kaggle que vem compressado em um arquivo .zip e upei o CSV no meu Google Drive precisando então montar o diretório para acessar a partir do Colab\n",
        "\n",
        "from google.colab import drive\n",
        "drive.mount('/content/drive')"
      ],
      "metadata": {
        "id": "pWEkJphW-sQP"
      },
      "execution_count": null,
      "outputs": []
    },
    {
      "cell_type": "code",
      "source": [
        "# importando o arquivo diretamente do meu diretório do Google Drive\n",
        "df_btc = pd.read_csv('/content/drive/MyDrive/Datasets/bitstampUSD_1-min_data_2012-01-01_to_2021-03-31.csv')\n",
        "\n",
        "df_btc.head()\n"
      ],
      "metadata": {
        "colab": {
          "base_uri": "https://localhost:8080/",
          "height": 206
        },
        "id": "QmPqaPa869bN",
        "outputId": "56501575-44fc-4734-8b33-f03272b28e41"
      },
      "execution_count": null,
      "outputs": [
        {
          "output_type": "execute_result",
          "data": {
            "text/plain": [
              "    Timestamp  Open  High   Low  Close  Volume_(BTC)  Volume_(Currency)  \\\n",
              "0  1325317920  4.39  4.39  4.39   4.39      0.455581                2.0   \n",
              "1  1325317980   NaN   NaN   NaN    NaN           NaN                NaN   \n",
              "2  1325318040   NaN   NaN   NaN    NaN           NaN                NaN   \n",
              "3  1325318100   NaN   NaN   NaN    NaN           NaN                NaN   \n",
              "4  1325318160   NaN   NaN   NaN    NaN           NaN                NaN   \n",
              "\n",
              "   Weighted_Price  \n",
              "0            4.39  \n",
              "1             NaN  \n",
              "2             NaN  \n",
              "3             NaN  \n",
              "4             NaN  "
            ],
            "text/html": [
              "\n",
              "  <div id=\"df-2f6d9956-06df-4d93-983c-f91477ebade8\">\n",
              "    <div class=\"colab-df-container\">\n",
              "      <div>\n",
              "<style scoped>\n",
              "    .dataframe tbody tr th:only-of-type {\n",
              "        vertical-align: middle;\n",
              "    }\n",
              "\n",
              "    .dataframe tbody tr th {\n",
              "        vertical-align: top;\n",
              "    }\n",
              "\n",
              "    .dataframe thead th {\n",
              "        text-align: right;\n",
              "    }\n",
              "</style>\n",
              "<table border=\"1\" class=\"dataframe\">\n",
              "  <thead>\n",
              "    <tr style=\"text-align: right;\">\n",
              "      <th></th>\n",
              "      <th>Timestamp</th>\n",
              "      <th>Open</th>\n",
              "      <th>High</th>\n",
              "      <th>Low</th>\n",
              "      <th>Close</th>\n",
              "      <th>Volume_(BTC)</th>\n",
              "      <th>Volume_(Currency)</th>\n",
              "      <th>Weighted_Price</th>\n",
              "    </tr>\n",
              "  </thead>\n",
              "  <tbody>\n",
              "    <tr>\n",
              "      <th>0</th>\n",
              "      <td>1325317920</td>\n",
              "      <td>4.39</td>\n",
              "      <td>4.39</td>\n",
              "      <td>4.39</td>\n",
              "      <td>4.39</td>\n",
              "      <td>0.455581</td>\n",
              "      <td>2.0</td>\n",
              "      <td>4.39</td>\n",
              "    </tr>\n",
              "    <tr>\n",
              "      <th>1</th>\n",
              "      <td>1325317980</td>\n",
              "      <td>NaN</td>\n",
              "      <td>NaN</td>\n",
              "      <td>NaN</td>\n",
              "      <td>NaN</td>\n",
              "      <td>NaN</td>\n",
              "      <td>NaN</td>\n",
              "      <td>NaN</td>\n",
              "    </tr>\n",
              "    <tr>\n",
              "      <th>2</th>\n",
              "      <td>1325318040</td>\n",
              "      <td>NaN</td>\n",
              "      <td>NaN</td>\n",
              "      <td>NaN</td>\n",
              "      <td>NaN</td>\n",
              "      <td>NaN</td>\n",
              "      <td>NaN</td>\n",
              "      <td>NaN</td>\n",
              "    </tr>\n",
              "    <tr>\n",
              "      <th>3</th>\n",
              "      <td>1325318100</td>\n",
              "      <td>NaN</td>\n",
              "      <td>NaN</td>\n",
              "      <td>NaN</td>\n",
              "      <td>NaN</td>\n",
              "      <td>NaN</td>\n",
              "      <td>NaN</td>\n",
              "      <td>NaN</td>\n",
              "    </tr>\n",
              "    <tr>\n",
              "      <th>4</th>\n",
              "      <td>1325318160</td>\n",
              "      <td>NaN</td>\n",
              "      <td>NaN</td>\n",
              "      <td>NaN</td>\n",
              "      <td>NaN</td>\n",
              "      <td>NaN</td>\n",
              "      <td>NaN</td>\n",
              "      <td>NaN</td>\n",
              "    </tr>\n",
              "  </tbody>\n",
              "</table>\n",
              "</div>\n",
              "      <button class=\"colab-df-convert\" onclick=\"convertToInteractive('df-2f6d9956-06df-4d93-983c-f91477ebade8')\"\n",
              "              title=\"Convert this dataframe to an interactive table.\"\n",
              "              style=\"display:none;\">\n",
              "        \n",
              "  <svg xmlns=\"http://www.w3.org/2000/svg\" height=\"24px\"viewBox=\"0 0 24 24\"\n",
              "       width=\"24px\">\n",
              "    <path d=\"M0 0h24v24H0V0z\" fill=\"none\"/>\n",
              "    <path d=\"M18.56 5.44l.94 2.06.94-2.06 2.06-.94-2.06-.94-.94-2.06-.94 2.06-2.06.94zm-11 1L8.5 8.5l.94-2.06 2.06-.94-2.06-.94L8.5 2.5l-.94 2.06-2.06.94zm10 10l.94 2.06.94-2.06 2.06-.94-2.06-.94-.94-2.06-.94 2.06-2.06.94z\"/><path d=\"M17.41 7.96l-1.37-1.37c-.4-.4-.92-.59-1.43-.59-.52 0-1.04.2-1.43.59L10.3 9.45l-7.72 7.72c-.78.78-.78 2.05 0 2.83L4 21.41c.39.39.9.59 1.41.59.51 0 1.02-.2 1.41-.59l7.78-7.78 2.81-2.81c.8-.78.8-2.07 0-2.86zM5.41 20L4 18.59l7.72-7.72 1.47 1.35L5.41 20z\"/>\n",
              "  </svg>\n",
              "      </button>\n",
              "      \n",
              "  <style>\n",
              "    .colab-df-container {\n",
              "      display:flex;\n",
              "      flex-wrap:wrap;\n",
              "      gap: 12px;\n",
              "    }\n",
              "\n",
              "    .colab-df-convert {\n",
              "      background-color: #E8F0FE;\n",
              "      border: none;\n",
              "      border-radius: 50%;\n",
              "      cursor: pointer;\n",
              "      display: none;\n",
              "      fill: #1967D2;\n",
              "      height: 32px;\n",
              "      padding: 0 0 0 0;\n",
              "      width: 32px;\n",
              "    }\n",
              "\n",
              "    .colab-df-convert:hover {\n",
              "      background-color: #E2EBFA;\n",
              "      box-shadow: 0px 1px 2px rgba(60, 64, 67, 0.3), 0px 1px 3px 1px rgba(60, 64, 67, 0.15);\n",
              "      fill: #174EA6;\n",
              "    }\n",
              "\n",
              "    [theme=dark] .colab-df-convert {\n",
              "      background-color: #3B4455;\n",
              "      fill: #D2E3FC;\n",
              "    }\n",
              "\n",
              "    [theme=dark] .colab-df-convert:hover {\n",
              "      background-color: #434B5C;\n",
              "      box-shadow: 0px 1px 3px 1px rgba(0, 0, 0, 0.15);\n",
              "      filter: drop-shadow(0px 1px 2px rgba(0, 0, 0, 0.3));\n",
              "      fill: #FFFFFF;\n",
              "    }\n",
              "  </style>\n",
              "\n",
              "      <script>\n",
              "        const buttonEl =\n",
              "          document.querySelector('#df-2f6d9956-06df-4d93-983c-f91477ebade8 button.colab-df-convert');\n",
              "        buttonEl.style.display =\n",
              "          google.colab.kernel.accessAllowed ? 'block' : 'none';\n",
              "\n",
              "        async function convertToInteractive(key) {\n",
              "          const element = document.querySelector('#df-2f6d9956-06df-4d93-983c-f91477ebade8');\n",
              "          const dataTable =\n",
              "            await google.colab.kernel.invokeFunction('convertToInteractive',\n",
              "                                                     [key], {});\n",
              "          if (!dataTable) return;\n",
              "\n",
              "          const docLinkHtml = 'Like what you see? Visit the ' +\n",
              "            '<a target=\"_blank\" href=https://colab.research.google.com/notebooks/data_table.ipynb>data table notebook</a>'\n",
              "            + ' to learn more about interactive tables.';\n",
              "          element.innerHTML = '';\n",
              "          dataTable['output_type'] = 'display_data';\n",
              "          await google.colab.output.renderOutput(dataTable, element);\n",
              "          const docLink = document.createElement('div');\n",
              "          docLink.innerHTML = docLinkHtml;\n",
              "          element.appendChild(docLink);\n",
              "        }\n",
              "      </script>\n",
              "    </div>\n",
              "  </div>\n",
              "  "
            ]
          },
          "metadata": {},
          "execution_count": 68
        }
      ]
    },
    {
      "cell_type": "code",
      "source": [
        "# verificando o tamanho do dataset\n",
        "print('Número de linhas:', df_btc.shape[0])\n",
        "print('Número de colunas:', df_btc.shape[1])"
      ],
      "metadata": {
        "colab": {
          "base_uri": "https://localhost:8080/"
        },
        "id": "WBxyZy7s-Fci",
        "outputId": "4efbab72-aab0-4cb4-e2b3-5c6f561cd304"
      },
      "execution_count": null,
      "outputs": [
        {
          "output_type": "stream",
          "name": "stdout",
          "text": [
            "Número de linhas: 4857377\n",
            "Número de colunas: 8\n"
          ]
        }
      ]
    },
    {
      "cell_type": "code",
      "source": [
        "# verificando valores NaN\n",
        "df_btc.isnull().sum() / df_btc.shape[0]"
      ],
      "metadata": {
        "colab": {
          "base_uri": "https://localhost:8080/"
        },
        "id": "rnrBwgaz7Gmy",
        "outputId": "27d2953c-4aaf-4a5f-cf85-b1f9efd4bbb1"
      },
      "execution_count": null,
      "outputs": [
        {
          "output_type": "execute_result",
          "data": {
            "text/plain": [
              "Timestamp            0.000000\n",
              "Open                 0.256025\n",
              "High                 0.256025\n",
              "Low                  0.256025\n",
              "Close                0.256025\n",
              "Volume_(BTC)         0.256025\n",
              "Volume_(Currency)    0.256025\n",
              "Weighted_Price       0.256025\n",
              "dtype: float64"
            ]
          },
          "metadata": {},
          "execution_count": 49
        }
      ]
    },
    {
      "cell_type": "code",
      "source": [
        "# para uma solução rápida eliminei os vlaores NaN para fins de apenas plortamos um hisograma\n",
        "df_btc.dropna(inplace=True)\n",
        "# verificando valores NaN novamente\n",
        "df_btc.isnull().sum() / df_btc.shape[0]"
      ],
      "metadata": {
        "colab": {
          "base_uri": "https://localhost:8080/"
        },
        "id": "1uN84B-87UiD",
        "outputId": "b85b9ea6-73cc-4fb6-8114-0226fbd10128"
      },
      "execution_count": null,
      "outputs": [
        {
          "output_type": "execute_result",
          "data": {
            "text/plain": [
              "Timestamp            0.0\n",
              "Open                 0.0\n",
              "High                 0.0\n",
              "Low                  0.0\n",
              "Close                0.0\n",
              "Volume_(BTC)         0.0\n",
              "Volume_(Currency)    0.0\n",
              "Weighted_Price       0.0\n",
              "dtype: float64"
            ]
          },
          "metadata": {},
          "execution_count": 70
        }
      ]
    },
    {
      "cell_type": "code",
      "source": [
        "# analisando a variável Weighted_Price (preço médio)\n",
        "df_btc['Weighted_Price'].describe()"
      ],
      "metadata": {
        "colab": {
          "base_uri": "https://localhost:8080/"
        },
        "id": "veldJIdV8g38",
        "outputId": "f82578e5-1d6d-4643-fd6c-55e73be89bd4"
      },
      "execution_count": null,
      "outputs": [
        {
          "output_type": "execute_result",
          "data": {
            "text/plain": [
              "count    3.613769e+06\n",
              "mean     6.008935e+03\n",
              "std      8.995992e+03\n",
              "min      3.800000e+00\n",
              "25%      4.438306e+02\n",
              "50%      3.596804e+03\n",
              "75%      8.627637e+03\n",
              "max      6.171621e+04\n",
              "Name: Weighted_Price, dtype: float64"
            ]
          },
          "metadata": {},
          "execution_count": 69
        }
      ]
    },
    {
      "cell_type": "markdown",
      "source": [
        "### Histograma"
      ],
      "metadata": {
        "id": "hzdUKsf09HX1"
      }
    },
    {
      "cell_type": "code",
      "source": [
        "fig, ax0 = plt.subplots(figsize=(15,10))\n",
        "\n",
        "ax0.hist('Weighted_Price', data=df_btc, density=False, bins=60)\n",
        "ax0.set_title(\"Histograma do Preço Médio\")\n",
        "ax0.set_ylabel(\"Frequência de ocorrências\")\n",
        "ax0.set_xlabel(\"Variação\")"
      ],
      "metadata": {
        "colab": {
          "base_uri": "https://localhost:8080/",
          "height": 644
        },
        "id": "NZE852dKCELS",
        "outputId": "1ab9603e-e3d1-4885-e487-5f4ea38455f7"
      },
      "execution_count": null,
      "outputs": [
        {
          "output_type": "execute_result",
          "data": {
            "text/plain": [
              "Text(0.5, 0, 'Variação')"
            ]
          },
          "metadata": {},
          "execution_count": 82
        },
        {
          "output_type": "display_data",
          "data": {
            "text/plain": [
              "<Figure size 1080x720 with 1 Axes>"
            ],
            "image/png": "[encoded data removed]"
          },
          "metadata": {}
        }
      ]
    },
    {
      "cell_type": "markdown",
      "source": [
        "### Boxplot"
      ],
      "metadata": {
        "id": "GVkZLE8F9UFh"
      }
    },
    {
      "cell_type": "code",
      "source": [
        "# escolhendo o tema do gráfico\n",
        "sns.set_theme(style=\"darkgrid\")\n",
        "\n",
        "# plotando boxplot\n",
        "fig, ax1 = plt.subplots(figsize=(15,4))\n",
        "\n",
        "sns.boxplot(orient='h', x='Weighted_Price', data=df_btc, ax=ax1, palette=\"flare\", width=0.5, fliersize=10)\n",
        "ax1.set_title('Boxplot: Preço Médio dos Bitcoins')\n",
        "ax1.set_xlabel('Preço Médio')"
      ],
      "metadata": {
        "colab": {
          "base_uri": "https://localhost:8080/",
          "height": 318
        },
        "id": "_MexFyDWDVkr",
        "outputId": "9454c792-5311-4ce1-9978-2f20495c6024"
      },
      "execution_count": null,
      "outputs": [
        {
          "output_type": "execute_result",
          "data": {
            "text/plain": [
              "Text(0.5, 0, 'Preço Médio')"
            ]
          },
          "metadata": {},
          "execution_count": 77
        },
        {
          "output_type": "display_data",
          "data": {
            "text/plain": [
              "<Figure size 1080x288 with 1 Axes>"
            ],
            "image/png": "[encoded data removed]"
          },
          "metadata": {}
        }
      ]
    },
    {
      "cell_type": "markdown",
      "source": [
        "### Violin Plot"
      ],
      "metadata": {
        "id": "o3sU3BFH9Xli"
      }
    },
    {
      "cell_type": "code",
      "source": [
        "# escolhendo o tema do gráfico\n",
        "sns.set_theme(style=\"darkgrid\")\n",
        "\n",
        "# plotando violin plot\n",
        "fig, ax2 = plt.subplots(figsize=(15,4))\n",
        "\n",
        "sns.violinplot(orient='h', x='Weighted_Price', data=df_btc, ax=ax2, palette=\"flare\", width=0.5, fliersize=10)\n",
        "ax2.set_title('Violin Plot: Preço Médio dos Bitcoins')\n",
        "ax2.set_xlabel('Preço Médio')"
      ],
      "metadata": {
        "colab": {
          "base_uri": "https://localhost:8080/",
          "height": 318
        },
        "id": "PGweOdL_EMSN",
        "outputId": "a07a9218-0298-4465-9ff9-e5eb21d188eb"
      },
      "execution_count": null,
      "outputs": [
        {
          "output_type": "execute_result",
          "data": {
            "text/plain": [
              "Text(0.5, 0, 'Preço Médio')"
            ]
          },
          "metadata": {},
          "execution_count": 78
        },
        {
          "output_type": "display_data",
          "data": {
            "text/plain": [
              "<Figure size 1080x288 with 1 Axes>"
            ],
            "image/png": "[encoded data removed]"
          },
          "metadata": {}
        }
      ]
    },
    {
      "cell_type": "code",
      "source": [
        ""
      ],
      "metadata": {
        "id": "5C_4uYb3eVZh"
      },
      "execution_count": null,
      "outputs": []
    }
  ]
}